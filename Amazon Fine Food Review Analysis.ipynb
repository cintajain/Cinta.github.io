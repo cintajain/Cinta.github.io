{
 "cells": [
  {
   "cell_type": "code",
   "execution_count": 2,
   "metadata": {},
   "outputs": [],
   "source": [
    "import pandas as pd\n",
    "import numpy as np\n",
    "import sqlite3\n",
    "import seaborn as sns\n",
    "import matplotlib.pyplot as plt\n",
    "%matplotlib inline\n",
    "sns.set(style='white', color_codes=True)\n",
    "\n",
    "import warnings\n",
    "warnings.filterwarnings(\"ignore\")"
   ]
  },
  {
   "cell_type": "code",
   "execution_count": 3,
   "metadata": {},
   "outputs": [
    {
     "data": {
      "text/html": [
       "<div>\n",
       "<style scoped>\n",
       "    .dataframe tbody tr th:only-of-type {\n",
       "        vertical-align: middle;\n",
       "    }\n",
       "\n",
       "    .dataframe tbody tr th {\n",
       "        vertical-align: top;\n",
       "    }\n",
       "\n",
       "    .dataframe thead th {\n",
       "        text-align: right;\n",
       "    }\n",
       "</style>\n",
       "<table border=\"1\" class=\"dataframe\">\n",
       "  <thead>\n",
       "    <tr style=\"text-align: right;\">\n",
       "      <th></th>\n",
       "      <th>Id</th>\n",
       "      <th>ProductId</th>\n",
       "      <th>UserId</th>\n",
       "      <th>ProfileName</th>\n",
       "      <th>HelpfulnessNumerator</th>\n",
       "      <th>HelpfulnessDenominator</th>\n",
       "      <th>Score</th>\n",
       "      <th>Time</th>\n",
       "      <th>Summary</th>\n",
       "      <th>Text</th>\n",
       "    </tr>\n",
       "  </thead>\n",
       "  <tbody>\n",
       "    <tr>\n",
       "      <th>0</th>\n",
       "      <td>1</td>\n",
       "      <td>B001E4KFG0</td>\n",
       "      <td>A3SGXH7AUHU8GW</td>\n",
       "      <td>delmartian</td>\n",
       "      <td>1</td>\n",
       "      <td>1</td>\n",
       "      <td>5</td>\n",
       "      <td>1303862400</td>\n",
       "      <td>Good Quality Dog Food</td>\n",
       "      <td>I have bought several of the Vitality canned d...</td>\n",
       "    </tr>\n",
       "    <tr>\n",
       "      <th>1</th>\n",
       "      <td>2</td>\n",
       "      <td>B00813GRG4</td>\n",
       "      <td>A1D87F6ZCVE5NK</td>\n",
       "      <td>dll pa</td>\n",
       "      <td>0</td>\n",
       "      <td>0</td>\n",
       "      <td>1</td>\n",
       "      <td>1346976000</td>\n",
       "      <td>Not as Advertised</td>\n",
       "      <td>Product arrived labeled as Jumbo Salted Peanut...</td>\n",
       "    </tr>\n",
       "    <tr>\n",
       "      <th>2</th>\n",
       "      <td>3</td>\n",
       "      <td>B000LQOCH0</td>\n",
       "      <td>ABXLMWJIXXAIN</td>\n",
       "      <td>Natalia Corres \"Natalia Corres\"</td>\n",
       "      <td>1</td>\n",
       "      <td>1</td>\n",
       "      <td>4</td>\n",
       "      <td>1219017600</td>\n",
       "      <td>\"Delight\" says it all</td>\n",
       "      <td>This is a confection that has been around a fe...</td>\n",
       "    </tr>\n",
       "    <tr>\n",
       "      <th>3</th>\n",
       "      <td>4</td>\n",
       "      <td>B000UA0QIQ</td>\n",
       "      <td>A395BORC6FGVXV</td>\n",
       "      <td>Karl</td>\n",
       "      <td>3</td>\n",
       "      <td>3</td>\n",
       "      <td>2</td>\n",
       "      <td>1307923200</td>\n",
       "      <td>Cough Medicine</td>\n",
       "      <td>If you are looking for the secret ingredient i...</td>\n",
       "    </tr>\n",
       "    <tr>\n",
       "      <th>4</th>\n",
       "      <td>5</td>\n",
       "      <td>B006K2ZZ7K</td>\n",
       "      <td>A1UQRSCLF8GW1T</td>\n",
       "      <td>Michael D. Bigham \"M. Wassir\"</td>\n",
       "      <td>0</td>\n",
       "      <td>0</td>\n",
       "      <td>5</td>\n",
       "      <td>1350777600</td>\n",
       "      <td>Great taffy</td>\n",
       "      <td>Great taffy at a great price.  There was a wid...</td>\n",
       "    </tr>\n",
       "  </tbody>\n",
       "</table>\n",
       "</div>"
      ],
      "text/plain": [
       "   Id   ProductId          UserId                      ProfileName  \\\n",
       "0   1  B001E4KFG0  A3SGXH7AUHU8GW                       delmartian   \n",
       "1   2  B00813GRG4  A1D87F6ZCVE5NK                           dll pa   \n",
       "2   3  B000LQOCH0   ABXLMWJIXXAIN  Natalia Corres \"Natalia Corres\"   \n",
       "3   4  B000UA0QIQ  A395BORC6FGVXV                             Karl   \n",
       "4   5  B006K2ZZ7K  A1UQRSCLF8GW1T    Michael D. Bigham \"M. Wassir\"   \n",
       "\n",
       "   HelpfulnessNumerator  HelpfulnessDenominator  Score        Time  \\\n",
       "0                     1                       1      5  1303862400   \n",
       "1                     0                       0      1  1346976000   \n",
       "2                     1                       1      4  1219017600   \n",
       "3                     3                       3      2  1307923200   \n",
       "4                     0                       0      5  1350777600   \n",
       "\n",
       "                 Summary                                               Text  \n",
       "0  Good Quality Dog Food  I have bought several of the Vitality canned d...  \n",
       "1      Not as Advertised  Product arrived labeled as Jumbo Salted Peanut...  \n",
       "2  \"Delight\" says it all  This is a confection that has been around a fe...  \n",
       "3         Cough Medicine  If you are looking for the secret ingredient i...  \n",
       "4            Great taffy  Great taffy at a great price.  There was a wid...  "
      ]
     },
     "execution_count": 3,
     "metadata": {},
     "output_type": "execute_result"
    }
   ],
   "source": [
    "df1 = pd.read_csv('Reviews.csv')\n",
    "df1.head()"
   ]
  },
  {
   "cell_type": "code",
   "execution_count": 4,
   "metadata": {},
   "outputs": [
    {
     "data": {
      "text/plain": [
       "(568454, 10)"
      ]
     },
     "execution_count": 4,
     "metadata": {},
     "output_type": "execute_result"
    }
   ],
   "source": [
    "con_rev=df1.shape\n",
    "con_rev"
   ]
  },
  {
   "cell_type": "code",
   "execution_count": 5,
   "metadata": {},
   "outputs": [],
   "source": [
    "# Give reviews with Score>3 a positive rating, and reviews with a score<3 a negative rating.\n",
    "def partition(x):\n",
    "    if x < 3:\n",
    "        return 0\n",
    "    return 1"
   ]
  },
  {
   "cell_type": "code",
   "execution_count": 6,
   "metadata": {},
   "outputs": [
    {
     "name": "stdout",
     "output_type": "stream",
     "text": [
      "Number of data points in our data (568454, 10)\n"
     ]
    },
    {
     "data": {
      "text/html": [
       "<div>\n",
       "<style scoped>\n",
       "    .dataframe tbody tr th:only-of-type {\n",
       "        vertical-align: middle;\n",
       "    }\n",
       "\n",
       "    .dataframe tbody tr th {\n",
       "        vertical-align: top;\n",
       "    }\n",
       "\n",
       "    .dataframe thead th {\n",
       "        text-align: right;\n",
       "    }\n",
       "</style>\n",
       "<table border=\"1\" class=\"dataframe\">\n",
       "  <thead>\n",
       "    <tr style=\"text-align: right;\">\n",
       "      <th></th>\n",
       "      <th>Id</th>\n",
       "      <th>ProductId</th>\n",
       "      <th>UserId</th>\n",
       "      <th>ProfileName</th>\n",
       "      <th>HelpfulnessNumerator</th>\n",
       "      <th>HelpfulnessDenominator</th>\n",
       "      <th>Score</th>\n",
       "      <th>Time</th>\n",
       "      <th>Summary</th>\n",
       "      <th>Text</th>\n",
       "    </tr>\n",
       "  </thead>\n",
       "  <tbody>\n",
       "    <tr>\n",
       "      <th>0</th>\n",
       "      <td>1</td>\n",
       "      <td>B001E4KFG0</td>\n",
       "      <td>A3SGXH7AUHU8GW</td>\n",
       "      <td>delmartian</td>\n",
       "      <td>1</td>\n",
       "      <td>1</td>\n",
       "      <td>1</td>\n",
       "      <td>1303862400</td>\n",
       "      <td>Good Quality Dog Food</td>\n",
       "      <td>I have bought several of the Vitality canned d...</td>\n",
       "    </tr>\n",
       "    <tr>\n",
       "      <th>1</th>\n",
       "      <td>2</td>\n",
       "      <td>B00813GRG4</td>\n",
       "      <td>A1D87F6ZCVE5NK</td>\n",
       "      <td>dll pa</td>\n",
       "      <td>0</td>\n",
       "      <td>0</td>\n",
       "      <td>0</td>\n",
       "      <td>1346976000</td>\n",
       "      <td>Not as Advertised</td>\n",
       "      <td>Product arrived labeled as Jumbo Salted Peanut...</td>\n",
       "    </tr>\n",
       "    <tr>\n",
       "      <th>2</th>\n",
       "      <td>3</td>\n",
       "      <td>B000LQOCH0</td>\n",
       "      <td>ABXLMWJIXXAIN</td>\n",
       "      <td>Natalia Corres \"Natalia Corres\"</td>\n",
       "      <td>1</td>\n",
       "      <td>1</td>\n",
       "      <td>1</td>\n",
       "      <td>1219017600</td>\n",
       "      <td>\"Delight\" says it all</td>\n",
       "      <td>This is a confection that has been around a fe...</td>\n",
       "    </tr>\n",
       "  </tbody>\n",
       "</table>\n",
       "</div>"
      ],
      "text/plain": [
       "   Id   ProductId          UserId                      ProfileName  \\\n",
       "0   1  B001E4KFG0  A3SGXH7AUHU8GW                       delmartian   \n",
       "1   2  B00813GRG4  A1D87F6ZCVE5NK                           dll pa   \n",
       "2   3  B000LQOCH0   ABXLMWJIXXAIN  Natalia Corres \"Natalia Corres\"   \n",
       "\n",
       "   HelpfulnessNumerator  HelpfulnessDenominator  Score        Time  \\\n",
       "0                     1                       1      1  1303862400   \n",
       "1                     0                       0      0  1346976000   \n",
       "2                     1                       1      1  1219017600   \n",
       "\n",
       "                 Summary                                               Text  \n",
       "0  Good Quality Dog Food  I have bought several of the Vitality canned d...  \n",
       "1      Not as Advertised  Product arrived labeled as Jumbo Salted Peanut...  \n",
       "2  \"Delight\" says it all  This is a confection that has been around a fe...  "
      ]
     },
     "execution_count": 6,
     "metadata": {},
     "output_type": "execute_result"
    }
   ],
   "source": [
    "#changing reviews with score less than 3 to be positive and vice-versa\n",
    "actualScore = df1['Score']\n",
    "positiveNegative = actualScore.map(partition) \n",
    "df1['Score'] = positiveNegative\n",
    "print(\"Number of data points in our data\", df1.shape)\n",
    "df1.head(3)"
   ]
  },
  {
   "cell_type": "code",
   "execution_count": 7,
   "metadata": {},
   "outputs": [
    {
     "name": "stdout",
     "output_type": "stream",
     "text": [
      "(393933, 10)\n"
     ]
    },
    {
     "data": {
      "text/html": [
       "<div>\n",
       "<style scoped>\n",
       "    .dataframe tbody tr th:only-of-type {\n",
       "        vertical-align: middle;\n",
       "    }\n",
       "\n",
       "    .dataframe tbody tr th {\n",
       "        vertical-align: top;\n",
       "    }\n",
       "\n",
       "    .dataframe thead th {\n",
       "        text-align: right;\n",
       "    }\n",
       "</style>\n",
       "<table border=\"1\" class=\"dataframe\">\n",
       "  <thead>\n",
       "    <tr style=\"text-align: right;\">\n",
       "      <th></th>\n",
       "      <th>Id</th>\n",
       "      <th>ProductId</th>\n",
       "      <th>UserId</th>\n",
       "      <th>ProfileName</th>\n",
       "      <th>HelpfulnessNumerator</th>\n",
       "      <th>HelpfulnessDenominator</th>\n",
       "      <th>Score</th>\n",
       "      <th>Time</th>\n",
       "      <th>Summary</th>\n",
       "      <th>Text</th>\n",
       "    </tr>\n",
       "  </thead>\n",
       "  <tbody>\n",
       "    <tr>\n",
       "      <th>0</th>\n",
       "      <td>1</td>\n",
       "      <td>B001E4KFG0</td>\n",
       "      <td>A3SGXH7AUHU8GW</td>\n",
       "      <td>delmartian</td>\n",
       "      <td>1</td>\n",
       "      <td>1</td>\n",
       "      <td>1</td>\n",
       "      <td>1303862400</td>\n",
       "      <td>Good Quality Dog Food</td>\n",
       "      <td>I have bought several of the Vitality canned d...</td>\n",
       "    </tr>\n",
       "    <tr>\n",
       "      <th>1</th>\n",
       "      <td>2</td>\n",
       "      <td>B00813GRG4</td>\n",
       "      <td>A1D87F6ZCVE5NK</td>\n",
       "      <td>dll pa</td>\n",
       "      <td>0</td>\n",
       "      <td>0</td>\n",
       "      <td>0</td>\n",
       "      <td>1346976000</td>\n",
       "      <td>Not as Advertised</td>\n",
       "      <td>Product arrived labeled as Jumbo Salted Peanut...</td>\n",
       "    </tr>\n",
       "    <tr>\n",
       "      <th>2</th>\n",
       "      <td>3</td>\n",
       "      <td>B000LQOCH0</td>\n",
       "      <td>ABXLMWJIXXAIN</td>\n",
       "      <td>Natalia Corres \"Natalia Corres\"</td>\n",
       "      <td>1</td>\n",
       "      <td>1</td>\n",
       "      <td>1</td>\n",
       "      <td>1219017600</td>\n",
       "      <td>\"Delight\" says it all</td>\n",
       "      <td>This is a confection that has been around a fe...</td>\n",
       "    </tr>\n",
       "  </tbody>\n",
       "</table>\n",
       "</div>"
      ],
      "text/plain": [
       "   Id   ProductId          UserId                      ProfileName  \\\n",
       "0   1  B001E4KFG0  A3SGXH7AUHU8GW                       delmartian   \n",
       "1   2  B00813GRG4  A1D87F6ZCVE5NK                           dll pa   \n",
       "2   3  B000LQOCH0   ABXLMWJIXXAIN  Natalia Corres \"Natalia Corres\"   \n",
       "\n",
       "   HelpfulnessNumerator  HelpfulnessDenominator  Score        Time  \\\n",
       "0                     1                       1      1  1303862400   \n",
       "1                     0                       0      0  1346976000   \n",
       "2                     1                       1      1  1219017600   \n",
       "\n",
       "                 Summary                                               Text  \n",
       "0  Good Quality Dog Food  I have bought several of the Vitality canned d...  \n",
       "1      Not as Advertised  Product arrived labeled as Jumbo Salted Peanut...  \n",
       "2  \"Delight\" says it all  This is a confection that has been around a fe...  "
      ]
     },
     "execution_count": 7,
     "metadata": {},
     "output_type": "execute_result"
    }
   ],
   "source": [
    "#Exploratory data analysis\n",
    "subset ={\"UserId\",\"ProfileName\",\"Time\",\"Text\"}\n",
    "data= df1.drop_duplicates(subset=subset,keep='first')\n",
    "print(data.shape)\n",
    "data.head(3)"
   ]
  },
  {
   "cell_type": "code",
   "execution_count": 8,
   "metadata": {},
   "outputs": [
    {
     "data": {
      "text/plain": [
       "69.29901100176971"
      ]
     },
     "execution_count": 8,
     "metadata": {},
     "output_type": "execute_result"
    }
   ],
   "source": [
    "#checking to see how much % of data still remains\n",
    "(data['Id'].size)/(df1['Id'].size)*100"
   ]
  },
  {
   "cell_type": "code",
   "execution_count": 9,
   "metadata": {},
   "outputs": [
    {
     "data": {
      "text/html": [
       "<div>\n",
       "<style scoped>\n",
       "    .dataframe tbody tr th:only-of-type {\n",
       "        vertical-align: middle;\n",
       "    }\n",
       "\n",
       "    .dataframe tbody tr th {\n",
       "        vertical-align: top;\n",
       "    }\n",
       "\n",
       "    .dataframe thead th {\n",
       "        text-align: right;\n",
       "    }\n",
       "</style>\n",
       "<table border=\"1\" class=\"dataframe\">\n",
       "  <thead>\n",
       "    <tr style=\"text-align: right;\">\n",
       "      <th></th>\n",
       "      <th>Id</th>\n",
       "      <th>ProductId</th>\n",
       "      <th>UserId</th>\n",
       "      <th>ProfileName</th>\n",
       "      <th>HelpfulnessNumerator</th>\n",
       "      <th>HelpfulnessDenominator</th>\n",
       "      <th>Score</th>\n",
       "      <th>Time</th>\n",
       "      <th>Summary</th>\n",
       "      <th>Text</th>\n",
       "    </tr>\n",
       "  </thead>\n",
       "  <tbody>\n",
       "    <tr>\n",
       "      <th>44736</th>\n",
       "      <td>44737</td>\n",
       "      <td>B001EQ55RW</td>\n",
       "      <td>A2V0I904FH7ABY</td>\n",
       "      <td>Ram</td>\n",
       "      <td>3</td>\n",
       "      <td>2</td>\n",
       "      <td>1</td>\n",
       "      <td>1212883200</td>\n",
       "      <td>Pure cocoa taste with crunchy almonds inside</td>\n",
       "      <td>It was almost a 'love at first bite' - the per...</td>\n",
       "    </tr>\n",
       "    <tr>\n",
       "      <th>64421</th>\n",
       "      <td>64422</td>\n",
       "      <td>B000MIDROQ</td>\n",
       "      <td>A161DK06JJMCYF</td>\n",
       "      <td>J. E. Stephens \"Jeanne\"</td>\n",
       "      <td>3</td>\n",
       "      <td>1</td>\n",
       "      <td>1</td>\n",
       "      <td>1224892800</td>\n",
       "      <td>Bought This for My Son at College</td>\n",
       "      <td>My son loves spaghetti so I didn't hesitate or...</td>\n",
       "    </tr>\n",
       "  </tbody>\n",
       "</table>\n",
       "</div>"
      ],
      "text/plain": [
       "          Id   ProductId          UserId              ProfileName  \\\n",
       "44736  44737  B001EQ55RW  A2V0I904FH7ABY                      Ram   \n",
       "64421  64422  B000MIDROQ  A161DK06JJMCYF  J. E. Stephens \"Jeanne\"   \n",
       "\n",
       "       HelpfulnessNumerator  HelpfulnessDenominator  Score        Time  \\\n",
       "44736                     3                       2      1  1212883200   \n",
       "64421                     3                       1      1  1224892800   \n",
       "\n",
       "                                            Summary  \\\n",
       "44736  Pure cocoa taste with crunchy almonds inside   \n",
       "64421             Bought This for My Son at College   \n",
       "\n",
       "                                                    Text  \n",
       "44736  It was almost a 'love at first bite' - the per...  \n",
       "64421  My son loves spaghetti so I didn't hesitate or...  "
      ]
     },
     "execution_count": 9,
     "metadata": {},
     "output_type": "execute_result"
    }
   ],
   "source": [
    "#checking is 'HelpfulnessNumerator' always less than or equal to 'HelpfulnessDenominator'\n",
    "data[data['HelpfulnessNumerator']>data['HelpfulnessDenominator']]"
   ]
  },
  {
   "cell_type": "code",
   "execution_count": 10,
   "metadata": {},
   "outputs": [],
   "source": [
    "#HelpfulnessNumerator can't be greater than HelpfulnessDenominator\n",
    "#So taking dataframe in which 'HelpfulnessNumerator' is less than or equal to 'HelpfulnessDenominator'"
   ]
  },
  {
   "cell_type": "code",
   "execution_count": 11,
   "metadata": {},
   "outputs": [
    {
     "name": "stdout",
     "output_type": "stream",
     "text": [
      "(393931, 10)\n"
     ]
    },
    {
     "data": {
      "text/html": [
       "<div>\n",
       "<style scoped>\n",
       "    .dataframe tbody tr th:only-of-type {\n",
       "        vertical-align: middle;\n",
       "    }\n",
       "\n",
       "    .dataframe tbody tr th {\n",
       "        vertical-align: top;\n",
       "    }\n",
       "\n",
       "    .dataframe thead th {\n",
       "        text-align: right;\n",
       "    }\n",
       "</style>\n",
       "<table border=\"1\" class=\"dataframe\">\n",
       "  <thead>\n",
       "    <tr style=\"text-align: right;\">\n",
       "      <th></th>\n",
       "      <th>Id</th>\n",
       "      <th>ProductId</th>\n",
       "      <th>UserId</th>\n",
       "      <th>ProfileName</th>\n",
       "      <th>HelpfulnessNumerator</th>\n",
       "      <th>HelpfulnessDenominator</th>\n",
       "      <th>Score</th>\n",
       "      <th>Time</th>\n",
       "      <th>Summary</th>\n",
       "      <th>Text</th>\n",
       "    </tr>\n",
       "  </thead>\n",
       "  <tbody>\n",
       "    <tr>\n",
       "      <th>0</th>\n",
       "      <td>1</td>\n",
       "      <td>B001E4KFG0</td>\n",
       "      <td>A3SGXH7AUHU8GW</td>\n",
       "      <td>delmartian</td>\n",
       "      <td>1</td>\n",
       "      <td>1</td>\n",
       "      <td>1</td>\n",
       "      <td>1303862400</td>\n",
       "      <td>Good Quality Dog Food</td>\n",
       "      <td>I have bought several of the Vitality canned d...</td>\n",
       "    </tr>\n",
       "    <tr>\n",
       "      <th>1</th>\n",
       "      <td>2</td>\n",
       "      <td>B00813GRG4</td>\n",
       "      <td>A1D87F6ZCVE5NK</td>\n",
       "      <td>dll pa</td>\n",
       "      <td>0</td>\n",
       "      <td>0</td>\n",
       "      <td>0</td>\n",
       "      <td>1346976000</td>\n",
       "      <td>Not as Advertised</td>\n",
       "      <td>Product arrived labeled as Jumbo Salted Peanut...</td>\n",
       "    </tr>\n",
       "    <tr>\n",
       "      <th>2</th>\n",
       "      <td>3</td>\n",
       "      <td>B000LQOCH0</td>\n",
       "      <td>ABXLMWJIXXAIN</td>\n",
       "      <td>Natalia Corres \"Natalia Corres\"</td>\n",
       "      <td>1</td>\n",
       "      <td>1</td>\n",
       "      <td>1</td>\n",
       "      <td>1219017600</td>\n",
       "      <td>\"Delight\" says it all</td>\n",
       "      <td>This is a confection that has been around a fe...</td>\n",
       "    </tr>\n",
       "  </tbody>\n",
       "</table>\n",
       "</div>"
      ],
      "text/plain": [
       "   Id   ProductId          UserId                      ProfileName  \\\n",
       "0   1  B001E4KFG0  A3SGXH7AUHU8GW                       delmartian   \n",
       "1   2  B00813GRG4  A1D87F6ZCVE5NK                           dll pa   \n",
       "2   3  B000LQOCH0   ABXLMWJIXXAIN  Natalia Corres \"Natalia Corres\"   \n",
       "\n",
       "   HelpfulnessNumerator  HelpfulnessDenominator  Score        Time  \\\n",
       "0                     1                       1      1  1303862400   \n",
       "1                     0                       0      0  1346976000   \n",
       "2                     1                       1      1  1219017600   \n",
       "\n",
       "                 Summary                                               Text  \n",
       "0  Good Quality Dog Food  I have bought several of the Vitality canned d...  \n",
       "1      Not as Advertised  Product arrived labeled as Jumbo Salted Peanut...  \n",
       "2  \"Delight\" says it all  This is a confection that has been around a fe...  "
      ]
     },
     "execution_count": 11,
     "metadata": {},
     "output_type": "execute_result"
    }
   ],
   "source": [
    "data=data[data['HelpfulnessNumerator']<=data['HelpfulnessDenominator']]\n",
    "data.reset_index(drop=True,inplace=True)\n",
    "print(data.shape)\n",
    "data.head(3)"
   ]
  },
  {
   "cell_type": "code",
   "execution_count": 12,
   "metadata": {},
   "outputs": [
    {
     "data": {
      "text/plain": [
       "Id                         0\n",
       "ProductId                  0\n",
       "UserId                     0\n",
       "ProfileName               11\n",
       "HelpfulnessNumerator       0\n",
       "HelpfulnessDenominator     0\n",
       "Score                      0\n",
       "Time                       0\n",
       "Summary                    3\n",
       "Text                       0\n",
       "dtype: int64"
      ]
     },
     "execution_count": 12,
     "metadata": {},
     "output_type": "execute_result"
    }
   ],
   "source": [
    "#Identifying missing value\n",
    "miss_val=data.isna().sum()\n",
    "miss_val"
   ]
  },
  {
   "cell_type": "code",
   "execution_count": 13,
   "metadata": {},
   "outputs": [
    {
     "name": "stdout",
     "output_type": "stream",
     "text": [
      "1    336823\n",
      "0     57108\n",
      "Name: Score, dtype: int64\n",
      "**************************************************\n"
     ]
    }
   ],
   "source": [
    "#data points for each class\n",
    "print(data['Score'].value_counts())\n",
    "print(\"*\"*50)"
   ]
  },
  {
   "cell_type": "code",
   "execution_count": 14,
   "metadata": {},
   "outputs": [
    {
     "data": {
      "text/plain": [
       "Text(0.5, 1.0, 'Score distribution')"
      ]
     },
     "execution_count": 14,
     "metadata": {},
     "output_type": "execute_result"
    },
    {
     "data": {
      "image/png": "[encoded data removed]",
      "text/plain": [
       "<Figure size 432x288 with 1 Axes>"
      ]
     },
     "metadata": {},
     "output_type": "display_data"
    }
   ],
   "source": [
    "#count plot for score\n",
    "sns.countplot('Score',data=data)\n",
    "plt.title(\"Score distribution\")"
   ]
  },
  {
   "cell_type": "code",
   "execution_count": 15,
   "metadata": {},
   "outputs": [],
   "source": [
    "#Text preprocessing: Stemming stop word removal & Lemmatization\n",
    "#set of stop words\n"
   ]
  },
  {
   "cell_type": "code",
   "execution_count": 16,
   "metadata": {},
   "outputs": [],
   "source": [
    "import re\n",
    "import nltk\n",
    "from nltk.corpus import stopwords\n",
    "stop=set(stopwords.words('english'))"
   ]
  },
  {
   "cell_type": "code",
   "execution_count": 17,
   "metadata": {},
   "outputs": [],
   "source": [
    "#Initializing the snowball stemmer\n",
    "sno= nltk.stem.SnowballStemmer('english')"
   ]
  },
  {
   "cell_type": "code",
   "execution_count": 18,
   "metadata": {},
   "outputs": [],
   "source": [
    "#function to clean the word of any html-tags\n",
    "def cleanhtml(sentence):\n",
    "    cleanr= re.compile('<.*?>')\n",
    "    cleantext=re.sub(cleanr,'',sentence)\n",
    "    return cleantext"
   ]
  },
  {
   "cell_type": "code",
   "execution_count": 19,
   "metadata": {},
   "outputs": [],
   "source": [
    "#function to clean the word of any punctuation or special characters\n",
    "def cleanpunc(sentence): \n",
    "    cleaned = re.sub(r'[?|!|\\'|\"|#]',r'',sentence)\n",
    "    cleaned = re.sub(r'[.|,|)|(|\\|/]',r' ',cleaned)\n",
    "    return  cleaned"
   ]
  },
  {
   "cell_type": "code",
   "execution_count": 20,
   "metadata": {},
   "outputs": [],
   "source": [
    "#function to text summarization\n",
    "def final_sentence(text):\n",
    "    text = text.split()\n",
    "    text=[cleanhtml(x) for x in text]\n",
    "    text=[cleanpunc(x) for x in text]\n",
    "    def test(word):\n",
    "        if word.isalpha() and len(word)>2 and word.lower() not in stop:\n",
    "            return True\n",
    "        else:\n",
    "            return False\n",
    "    text = [x for x in text if test(x)]\n",
    "    return ''.join(text)"
   ]
  },
  {
   "cell_type": "code",
   "execution_count": null,
   "metadata": {},
   "outputs": [],
   "source": []
  },
  {
   "cell_type": "code",
   "execution_count": 21,
   "metadata": {},
   "outputs": [
    {
     "name": "stdout",
     "output_type": "stream",
     "text": [
      "(393931, 11)\n"
     ]
    },
    {
     "data": {
      "text/html": [
       "<div>\n",
       "<style scoped>\n",
       "    .dataframe tbody tr th:only-of-type {\n",
       "        vertical-align: middle;\n",
       "    }\n",
       "\n",
       "    .dataframe tbody tr th {\n",
       "        vertical-align: top;\n",
       "    }\n",
       "\n",
       "    .dataframe thead th {\n",
       "        text-align: right;\n",
       "    }\n",
       "</style>\n",
       "<table border=\"1\" class=\"dataframe\">\n",
       "  <thead>\n",
       "    <tr style=\"text-align: right;\">\n",
       "      <th></th>\n",
       "      <th>Id</th>\n",
       "      <th>ProductId</th>\n",
       "      <th>UserId</th>\n",
       "      <th>ProfileName</th>\n",
       "      <th>HelpfulnessNumerator</th>\n",
       "      <th>HelpfulnessDenominator</th>\n",
       "      <th>Score</th>\n",
       "      <th>Time</th>\n",
       "      <th>Summary</th>\n",
       "      <th>Text</th>\n",
       "      <th>CleanedText</th>\n",
       "    </tr>\n",
       "  </thead>\n",
       "  <tbody>\n",
       "    <tr>\n",
       "      <th>0</th>\n",
       "      <td>1</td>\n",
       "      <td>B001E4KFG0</td>\n",
       "      <td>A3SGXH7AUHU8GW</td>\n",
       "      <td>delmartian</td>\n",
       "      <td>1</td>\n",
       "      <td>1</td>\n",
       "      <td>1</td>\n",
       "      <td>1303862400</td>\n",
       "      <td>Good Quality Dog Food</td>\n",
       "      <td>I have bought several of the Vitality canned d...</td>\n",
       "      <td>boughtseveralVitalitycanneddogfoodproductsfoun...</td>\n",
       "    </tr>\n",
       "    <tr>\n",
       "      <th>1</th>\n",
       "      <td>2</td>\n",
       "      <td>B00813GRG4</td>\n",
       "      <td>A1D87F6ZCVE5NK</td>\n",
       "      <td>dll pa</td>\n",
       "      <td>0</td>\n",
       "      <td>0</td>\n",
       "      <td>0</td>\n",
       "      <td>1346976000</td>\n",
       "      <td>Not as Advertised</td>\n",
       "      <td>Product arrived labeled as Jumbo Salted Peanut...</td>\n",
       "      <td>ProductarrivedlabeledJumboSaltedpeanutsactuall...</td>\n",
       "    </tr>\n",
       "    <tr>\n",
       "      <th>2</th>\n",
       "      <td>3</td>\n",
       "      <td>B000LQOCH0</td>\n",
       "      <td>ABXLMWJIXXAIN</td>\n",
       "      <td>Natalia Corres \"Natalia Corres\"</td>\n",
       "      <td>1</td>\n",
       "      <td>1</td>\n",
       "      <td>1</td>\n",
       "      <td>1219017600</td>\n",
       "      <td>\"Delight\" says it all</td>\n",
       "      <td>This is a confection that has been around a fe...</td>\n",
       "      <td>confectionaroundpillowycitrusgelatinnutscasecu...</td>\n",
       "    </tr>\n",
       "    <tr>\n",
       "      <th>3</th>\n",
       "      <td>4</td>\n",
       "      <td>B000UA0QIQ</td>\n",
       "      <td>A395BORC6FGVXV</td>\n",
       "      <td>Karl</td>\n",
       "      <td>3</td>\n",
       "      <td>3</td>\n",
       "      <td>0</td>\n",
       "      <td>1307923200</td>\n",
       "      <td>Cough Medicine</td>\n",
       "      <td>If you are looking for the secret ingredient i...</td>\n",
       "      <td>lookingsecretingredientRobitussinbelievefoundg...</td>\n",
       "    </tr>\n",
       "    <tr>\n",
       "      <th>4</th>\n",
       "      <td>5</td>\n",
       "      <td>B006K2ZZ7K</td>\n",
       "      <td>A1UQRSCLF8GW1T</td>\n",
       "      <td>Michael D. Bigham \"M. Wassir\"</td>\n",
       "      <td>0</td>\n",
       "      <td>0</td>\n",
       "      <td>1</td>\n",
       "      <td>1350777600</td>\n",
       "      <td>Great taffy</td>\n",
       "      <td>Great taffy at a great price.  There was a wid...</td>\n",
       "      <td>GreattaffygreatwideassortmentyummyDeliverytaffy</td>\n",
       "    </tr>\n",
       "  </tbody>\n",
       "</table>\n",
       "</div>"
      ],
      "text/plain": [
       "   Id   ProductId          UserId                      ProfileName  \\\n",
       "0   1  B001E4KFG0  A3SGXH7AUHU8GW                       delmartian   \n",
       "1   2  B00813GRG4  A1D87F6ZCVE5NK                           dll pa   \n",
       "2   3  B000LQOCH0   ABXLMWJIXXAIN  Natalia Corres \"Natalia Corres\"   \n",
       "3   4  B000UA0QIQ  A395BORC6FGVXV                             Karl   \n",
       "4   5  B006K2ZZ7K  A1UQRSCLF8GW1T    Michael D. Bigham \"M. Wassir\"   \n",
       "\n",
       "   HelpfulnessNumerator  HelpfulnessDenominator  Score        Time  \\\n",
       "0                     1                       1      1  1303862400   \n",
       "1                     0                       0      0  1346976000   \n",
       "2                     1                       1      1  1219017600   \n",
       "3                     3                       3      0  1307923200   \n",
       "4                     0                       0      1  1350777600   \n",
       "\n",
       "                 Summary                                               Text  \\\n",
       "0  Good Quality Dog Food  I have bought several of the Vitality canned d...   \n",
       "1      Not as Advertised  Product arrived labeled as Jumbo Salted Peanut...   \n",
       "2  \"Delight\" says it all  This is a confection that has been around a fe...   \n",
       "3         Cough Medicine  If you are looking for the secret ingredient i...   \n",
       "4            Great taffy  Great taffy at a great price.  There was a wid...   \n",
       "\n",
       "                                         CleanedText  \n",
       "0  boughtseveralVitalitycanneddogfoodproductsfoun...  \n",
       "1  ProductarrivedlabeledJumboSaltedpeanutsactuall...  \n",
       "2  confectionaroundpillowycitrusgelatinnutscasecu...  \n",
       "3  lookingsecretingredientRobitussinbelievefoundg...  \n",
       "4    GreattaffygreatwideassortmentyummyDeliverytaffy  "
      ]
     },
     "execution_count": 21,
     "metadata": {},
     "output_type": "execute_result"
    }
   ],
   "source": [
    "data['CleanedText'] = data['Text'].apply(final_sentence)\n",
    "print(data.shape)\n",
    "data.head()"
   ]
  },
  {
   "cell_type": "code",
   "execution_count": 22,
   "metadata": {},
   "outputs": [],
   "source": [
    "def Text_Into_Vector(model,data):  #converting text data into vector\n",
    "    model_vect = model(ngram_range=(1,2)) #in scikit-learn\n",
    "    final_array = model_vect.fit_transform(data.values)\n",
    "\n",
    "    print(\"the type of count vectorizer \",type(final_array))\n",
    "    print(\"the shape of out text BOW vectorizer \",final_array.get_shape())\n",
    "    print(\"the number of unique words including both unigrams and bigrams \", final_array.get_shape()[1])\n",
    "    \n",
    "    return model_vect, final_array"
   ]
  },
  {
   "cell_type": "code",
   "execution_count": 23,
   "metadata": {},
   "outputs": [],
   "source": [
    "#split data into train, cross validate and test \n",
    "from sklearn.model_selection import train_test_split\n",
    "\n",
    "def Split_data(x_vec, y_vec):\n",
    "    X_train, X_test, Y_train, Y_test = train_test_split(x_vec, y_vec, test_size=.33, random_state=0)\n",
    "    X_tr, X_cv, Y_tr, Y_cv = train_test_split(X_train, Y_train, test_size=.33, random_state=0)\n",
    "    return X_tr, X_cv, X_test, Y_tr, Y_test, Y_cv, X_train, Y_train"
   ]
  },
  {
   "cell_type": "code",
   "execution_count": 24,
   "metadata": {},
   "outputs": [],
   "source": [
    "#Normalize Data\n",
    "from sklearn import preprocessing\n",
    "from sklearn.preprocessing import Normalizer\n",
    "\n",
    "def Normalization(train, cv, test):\n",
    "    train=preprocessing.normalize(train)\n",
    "    cv=preprocessing.normalize(cv)\n",
    "    test=preprocessing.normalize(test)\n",
    "\n",
    "    print(\"Train Data Size \",train.get_shape())\n",
    "    print(\"CV Data Size: \",cv.shape)\n",
    "    print(\"Test Data Size: \",test.shape)\n",
    "    \n",
    "    return train, cv, test"
   ]
  },
  {
   "cell_type": "code",
   "execution_count": 25,
   "metadata": {},
   "outputs": [],
   "source": [
    "#Training multinomial naive bayes algorithm\n",
    "from sklearn.naive_bayes import MultinomialNB\n",
    "from sklearn.metrics import roc_auc_score\n",
    "from sklearn.metrics import roc_curve\n",
    "import matplotlib.pylab as pyplt\n",
    "\n",
    "def Multinomial_NB(X_train,X_cv,Y_train,Y_cv):\n",
    "    #############################################################################\n",
    "    best_alpha=0\n",
    "    max_roc_auc=-1\n",
    "    pred_cv = []\n",
    "    pred_train = []\n",
    "    alpha=[10000,5000,1000,500,100,50,10,5,1,0.5,0.1,0.05,0.01,0.005,0.001,0.0005,0.0001,0.00005,0.00001]\n",
    "    #############################################################################\n",
    "\n",
    "    for i in alpha:\n",
    "        mulbnb = MultinomialNB(alpha=i)\n",
    "        mulbnb.fit(X_train,Y_train)\n",
    "        probs = mulbnb.predict_proba(X_cv)[:,1]     \n",
    "        prob = mulbnb.predict_proba(X_train)[:,1]\n",
    "        #############################################################################\n",
    "\n",
    "        auc_score_cv = roc_auc_score(Y_cv,probs)            #auc roc for cv\n",
    "        auc_score_train = roc_auc_score(Y_train,prob)       #auc roc for train\n",
    "        #############################################################################\n",
    "\n",
    "        print(i,\" ------> \",auc_score_cv)\n",
    "        #############################################################################\n",
    "\n",
    "        pred_cv.append(auc_score_cv)\n",
    "        pred_train.append(auc_score_train)\n",
    "        #############################################################################\n",
    "\n",
    "        if(max_roc_auc<auc_score_cv):\n",
    "            max_roc_auc=auc_score_cv\n",
    "            best_alpha=i\n",
    "\n",
    "    print(\"*\"*100)\n",
    "    print(f\"\\n Best alpha Value {best_alpha} with highest roc_auc Score is {max_roc_auc}\")\n",
    "    print(\"*\"*100)\n",
    "     #############################################################################\n",
    "\n",
    "    sns.set_style(\"darkgrid\")\n",
    "    plt.xscale('log')\n",
    "    plt.plot(alpha, pred_cv,'r-', label = 'CV Data')\n",
    "    plt.plot(alpha,pred_train,'g-', label ='Train Data')\n",
    "    plt.legend(loc='upper right')\n",
    "    plt.title(r'Auc Score v/s $\\alpha$')\n",
    "    plt.xlabel(r\"alpha values\",fontsize=12)\n",
    "    plt.ylabel(\"roc_auc\",fontsize=12)\n",
    "    plt.show()\n",
    "    print(\"*\"*100)\n",
    "    #############################################################################\n",
    "\n",
    "    # calculate roc curve\n",
    "    fpr, tpr, thresholds = roc_curve(Y_cv,probs)\n",
    "    # plot no skill\n",
    "    pyplt.plot([0, 1], [0, 1], linestyle='--')\n",
    "    # plot the roc curve for the model\n",
    "    pyplt.plot(fpr, tpr, marker='.')\n",
    "    pyplt.title(\"Line Plot of ROC Curve on Train Data\")\n",
    "    pyplt.ylabel('True Positive Rate')\n",
    "    pyplt.xlabel('False Positive Rate')\n",
    "    pyplt.show()\n",
    "    print(\"*\"*100)\n",
    "    \n",
    "    #############################################################################\n",
    "    return best_alpha"
   ]
  },
  {
   "cell_type": "code",
   "execution_count": 26,
   "metadata": {},
   "outputs": [],
   "source": [
    "#Testing multinomial naive bayes algorithm\n",
    "#import scikitplot.metrics as skplt\n",
    "from sklearn import metrics\n",
    "from sklearn.metrics import confusion_matrix\n",
    "\n",
    "\n",
    "def Testing_model(X_train,Y_train,X_test,Y_test,best_alpha):\n",
    "    \n",
    "    #############################################################################\n",
    "    bnb = MultinomialNB(alpha = best_alpha, fit_prior=True, class_prior=None)\n",
    "    bnb.fit(X_train,Y_train)\n",
    "    probs = bnb.predict_proba(X_test)[:,1]            # keep probabilities for the positive outcome only\n",
    "\n",
    "    #############################################################################\n",
    "    roc_auc = roc_auc_score(Y_test,probs)\n",
    "    print(\"AUC Score\",roc_auc)\n",
    "    print(\"*\"*70)\n",
    "    #############################################################################'\n",
    "\n",
    "    # calculate roc curve\n",
    "    fpr, tpr, thresholds = roc_curve(Y_test,probs)\n",
    "    # plot no skill\n",
    "    plt.plot([0, 1], [0, 1], linestyle='--')\n",
    "    # plot the roc curve for the model\n",
    "    plt.plot(fpr, tpr, marker='.')\n",
    "    plt.title(\"Line Plot of ROC Curve on Test Data\")\n",
    "    plt.ylabel('True Positive Rate')\n",
    "    plt.xlabel('False Positive Rate')    \n",
    "    plt.show()\n",
    "\n",
    "    #############################################################################\n",
    "    prediction=bnb.predict(X_test)\n",
    "    skplt.plot_confusion_matrix(Y_test,prediction)\n",
    "    #############################################################################\n",
    "\n",
    "    print(\"macro f1 score for data :\",metrics.f1_score(Y_test, prediction, average = 'macro'))\n",
    "    print(\"micro f1 score for data:\",metrics.f1_score(Y_test, prediction, average = 'micro'))\n",
    "    print(\"hamming loss for data:\",metrics.hamming_loss(Y_test,prediction))\n",
    "    print(\"*\"*70)\n",
    "    print(\"Precision recall report for data:\\n\",metrics.classification_report(Y_test, prediction))\n",
    "    print(\"*\"*70)\n",
    "    \n",
    "    return bnb,roc_auc\n",
    "\n",
    "    #############################################################################"
   ]
  },
  {
   "cell_type": "code",
   "execution_count": 27,
   "metadata": {},
   "outputs": [],
   "source": [
    "#Top features\n",
    "def Important_features(model, classifier):\n",
    "    neg = classifier.feature_log_prob_[0].argsort()\n",
    "    pos = classifier.feature_log_prob_[1].argsort()\n",
    "    top_pos_words = np.take(model.get_feature_names(),pos)\n",
    "    top_neg_words = np.take(model.get_feature_names(),neg)\n",
    "    imp_df = pd.DataFrame(columns = ['Pos_Words','Pos_Importance','Neg_Words','Neg_Importance'])\n",
    "    imp_df['Pos_Words'] = top_pos_words[::-1]\n",
    "    imp_df['Pos_Importance'] = np.take(classifier.feature_log_prob_[1],pos)[::-1]\n",
    "    imp_df['Neg_Words'] = top_neg_words[::-1]\n",
    "    imp_df['Neg_Importance'] = np.take(classifier.feature_log_prob_[0],neg)[::-1]\n",
    "    return imp_df"
   ]
  },
  {
   "cell_type": "code",
   "execution_count": 28,
   "metadata": {},
   "outputs": [],
   "source": [
    "#Individual prediction\n",
    "def Individual_Prediction(model, classifier, review):\n",
    "    review = final_sentence(review)\n",
    "    review_vec = model.transform([review])\n",
    "    review_vec = preprocessing.normalize(review_vec)\n",
    "    pred = classifier.predict(review_vec)\n",
    "\n",
    "    return \"positive review\" if pred[0] == 1 else \"negative review\""
   ]
  },
  {
   "cell_type": "code",
   "execution_count": 29,
   "metadata": {},
   "outputs": [
    {
     "name": "stdout",
     "output_type": "stream",
     "text": [
      "the type of count vectorizer  <class 'scipy.sparse.csr.csr_matrix'>\n",
      "the shape of out text BOW vectorizer  (393931, 392885)\n",
      "the number of unique words including both unigrams and bigrams  392885\n"
     ]
    }
   ],
   "source": [
    "#Bag of words\n",
    "from sklearn.feature_extraction.text import CountVectorizer\n",
    "\n",
    "BOW, X = Text_Into_Vector(CountVectorizer,data['CleanedText'])"
   ]
  },
  {
   "cell_type": "code",
   "execution_count": 30,
   "metadata": {},
   "outputs": [
    {
     "data": {
      "text/plain": [
       "['aabsolutelyloverecentlydiscoveredcornallergymeansunableeatprocessedmissingmorningonecrunchytastesneversoggyalsoyummyfreshespeciallybananashealthyhighproteinlowelsecouldgirlaskissueparticularlyhardareaevenstoresstockfulllinenaturespathcerealsoftenstockgladavailableamazon',\n",
       " 'aapsaysmakegreensquashduehigherlevelsnitratesthoughtproductwouldgreatintroducegreenbeansmonthproductcontainsfishsuitablecandidatemontholdintroductoryfoodalsoamazonsitelistsproductingredientsgreenbeanswaterpictureproductsaysdhacomesfishcontactingamazonclearfactproductthoughtrefundedofferedsendnewthinkwouldgetmislabeledhappytroublemislabelingcausedthinkamazonscustomerservicegreat',\n",
       " 'abbalovecandy',\n",
       " 'abbeybellocheavenlywantlastmealgoodcamembertenjoygoatcheesenothingcouldntbuylittledisappointedwishtheydkeptlittleknifepetitstoastsaddedlittlegripepouchthatssupposedkeepthingscoldleakedruinedtabletopthrowsoonget',\n",
       " 'abbeyzukesnicelittletreatsfitwellpuzzlemakegoodalsorecommendzukeshipactioncontainsglucosomine',\n",
       " 'abbottcurrentlybackorderformulastatedwhateverleftstoresfloatingaroundthatshappyablepurchasevendoramazonformuladaughtertolerateseverespitrefluxtriedsimilacsimilacsensitiveisomilnutramigennonehelpedformulacurrentlyricestarchformulaavailablelactosehelpfuldaughteralsosensitivemilkhopefindformulabackshelvesstoressoon',\n",
       " 'abbyfirstcamehouseeatingqualitydogdecidedtrytastewildlackdidntexpectseeamazedcoatbecameevensoftersuppleperfectdogfood',\n",
       " 'abbysawpackageprettycouldsmelltreatslovessofttreatgivesomethingcrunchbuyspecialtreatsspecialgivesuredog',\n",
       " 'abcbookfoodstorenearbytemporarilycloseddearamazonalwayspromptreliablelinkettsgoodprefertastylomalindabigfrankshotdogbunbbqsaucemixuselinkettsbestorientalstirfryskinnysaucerecipegivetastesauteedfreshredgrapetomatoesconcordfoodsstirfrymixasianchurchpotlockuselinkettlightlystirmixmentionedspicesmixhalfsteamedcarrotssnapaddmixturetastegoodpotlightlystirdontmakegreasyserveoccassionallyprocessedfoodsseasoningmixpreservativesenjoy',\n",
       " 'abcpastalettersholdnicelywithoutkeeplettershapesloveorganicgranddaughtersthatssayingalphabetorganicboxes',\n",
       " 'abcstodayshowrecentlytestedzerochocolatepeanutbutteralongzeromaplefoundarcticzerovanillamaplewhoppingpercentcalorieschocolatepeanutincrediblepercentcaloriesalmostexactlyyoudcalculatelookingproteintestcaveatfindreportgooglingrossenbelievedietfrozendessertlabels',\n",
       " 'abcstorevegasstripmiraclewannasayplanetbaghalfyummymentionedearlierlotsinterestedorderingamazonthinkillstockstorelargepackage',\n",
       " 'abilityfulfillhardfinditemlookingcloselyitemscantfindpreviouslythoughtamazontypemerchadisehopeexpandproductillback',\n",
       " 'abilitygetsoysauceindividualpacketslittlestunnedstockbulksizediscoverarrivedexpiretwohalfimpressedaspect',\n",
       " 'abilityopennosealsogreatwoulddefinatelybuy',\n",
       " 'abilitypurchasekidsjuiceboxesonlineshippedfreegreatpricelessstorenothingdamagedshippingfastquitedealitempurchase',\n",
       " 'abilitysubscribesavehonestydoesntloveespeciallyreducedfattheyremuchcrisper',\n",
       " 'abilitytestshippingkiddoslovedsuckinsaucemuchgivemustardalmostpopularfacemustardneverpopularbarbecuefamilylovelittlebitpreferkindreadonereviewersgotjarshippedpaddedthinkeithershipperreadreviewgotmaybeluckedgotsmarteremployeemaybeorderedanotherjarbarbecueshippedjarstonsbubblewrapputsturdyshipmentarrivedsafelyabletry',\n",
       " 'abitabestknownwideassortmentactualtellrealmagicrootivetrieddozensrootbeersacrossamericaneveroneholdcandleabitasremarkablemustpurelouisianacanesugarcausereallynothingshortcoursebesthardfindreliablywheneverfindsixpacktwosnatchrightluckystumbleacross',\n",
       " 'ableaddfullpoundoldtoypoodleloveslooksforwarddinnerorderonecentcheaperamazonpet']"
      ]
     },
     "execution_count": 30,
     "metadata": {},
     "output_type": "execute_result"
    }
   ],
   "source": [
    "BOW.get_feature_names()[:20]"
   ]
  },
  {
   "cell_type": "code",
   "execution_count": 31,
   "metadata": {},
   "outputs": [
    {
     "data": {
      "text/plain": [
       "{'analyzer': 'word',\n",
       " 'binary': False,\n",
       " 'decode_error': 'strict',\n",
       " 'dtype': numpy.int64,\n",
       " 'encoding': 'utf-8',\n",
       " 'input': 'content',\n",
       " 'lowercase': True,\n",
       " 'max_df': 1.0,\n",
       " 'max_features': None,\n",
       " 'min_df': 1,\n",
       " 'ngram_range': (1, 2),\n",
       " 'preprocessor': None,\n",
       " 'stop_words': None,\n",
       " 'strip_accents': None,\n",
       " 'token_pattern': '(?u)\\\\b\\\\w\\\\w+\\\\b',\n",
       " 'tokenizer': None,\n",
       " 'vocabulary': None}"
      ]
     },
     "execution_count": 31,
     "metadata": {},
     "output_type": "execute_result"
    }
   ],
   "source": [
    "BOW.get_params()"
   ]
  },
  {
   "cell_type": "code",
   "execution_count": 32,
   "metadata": {},
   "outputs": [],
   "source": [
    "#split data into train, cross validate and test \n",
    "\n",
    "X_tr, X_cv, X_test, Y_tr, Y_test, Y_cv, X_train, Y_train = Split_data(X, data['Score'])"
   ]
  },
  {
   "cell_type": "code",
   "execution_count": 33,
   "metadata": {},
   "outputs": [
    {
     "name": "stdout",
     "output_type": "stream",
     "text": [
      "X_test, Y_test (129998, 392885) (129998,)\n",
      "X_tr, Y_tr (176835, 392885) (176835,)\n",
      "X_cv, Y_cv (87098, 392885) (87098,)\n",
      "X_Train, Y_Train (263933, 392885) (263933,)\n"
     ]
    }
   ],
   "source": [
    "print('X_test, Y_test', X_test.shape, Y_test.shape)\n",
    "print('X_tr, Y_tr', X_tr.shape, Y_tr.shape)\n",
    "print('X_cv, Y_cv', X_cv.shape, Y_cv.shape)\n",
    "print('X_Train, Y_Train', X_train.shape, Y_train.shape)"
   ]
  },
  {
   "cell_type": "code",
   "execution_count": 34,
   "metadata": {},
   "outputs": [
    {
     "name": "stdout",
     "output_type": "stream",
     "text": [
      "Train Data Size  (176835, 392885)\n",
      "CV Data Size:  (87098, 392885)\n",
      "Test Data Size:  (129998, 392885)\n"
     ]
    }
   ],
   "source": [
    "# Normalization\n",
    "\n",
    "X_tr, X_cv, X_test = Normalization(X_tr, X_cv, X_test)"
   ]
  },
  {
   "cell_type": "code",
   "execution_count": 35,
   "metadata": {},
   "outputs": [],
   "source": [
    "#Naive bayes for BOW\n"
   ]
  },
  {
   "cell_type": "code",
   "execution_count": 36,
   "metadata": {},
   "outputs": [
    {
     "name": "stdout",
     "output_type": "stream",
     "text": [
      "10000  ------>  0.5025115598041535\n",
      "5000  ------>  0.5025115598041535\n",
      "1000  ------>  0.5025115598041535\n",
      "500  ------>  0.5025115598041535\n",
      "100  ------>  0.5025115598041535\n",
      "50  ------>  0.5025115598041535\n",
      "10  ------>  0.5025115598041535\n",
      "5  ------>  0.5025115598041535\n",
      "1  ------>  0.5025115598041535\n",
      "0.5  ------>  0.5025115598041535\n",
      "0.1  ------>  0.5025115598041535\n",
      "0.05  ------>  0.5025115598041535\n",
      "0.01  ------>  0.5025115598041535\n",
      "0.005  ------>  0.5025115598041535\n",
      "0.001  ------>  0.5025115598041535\n",
      "0.0005  ------>  0.5025115598041535\n",
      "0.0001  ------>  0.5025115598041535\n",
      "5e-05  ------>  0.5025115598041535\n",
      "1e-05  ------>  0.5025115598041535\n",
      "****************************************************************************************************\n",
      "\n",
      " Best alpha Value 10000 with highest roc_auc Score is 0.5025115598041535\n",
      "****************************************************************************************************\n"
     ]
    },
    {
     "data": {
      "image/png": "[encoded data removed]",
      "text/plain": [
       "<Figure size 432x288 with 1 Axes>"
      ]
     },
     "metadata": {},
     "output_type": "display_data"
    },
    {
     "name": "stdout",
     "output_type": "stream",
     "text": [
      "****************************************************************************************************\n"
     ]
    },
    {
     "data": {
      "image/png": "[encoded data removed]",
      "text/plain": [
       "<Figure size 432x288 with 1 Axes>"
      ]
     },
     "metadata": {},
     "output_type": "display_data"
    },
    {
     "name": "stdout",
     "output_type": "stream",
     "text": [
      "****************************************************************************************************\n"
     ]
    }
   ],
   "source": [
    "#training NB \n",
    "\n",
    "best_alpha_bow = Multinomial_NB(X_tr,X_cv,Y_tr,Y_cv)"
   ]
  },
  {
   "cell_type": "code",
   "execution_count": 37,
   "metadata": {},
   "outputs": [
    {
     "name": "stdout",
     "output_type": "stream",
     "text": [
      "AUC Score 0.5028523571102949\n",
      "**********************************************************************\n"
     ]
    },
    {
     "data": {
      "image/png": "[encoded data removed]",
      "text/plain": [
       "<Figure size 432x288 with 1 Axes>"
      ]
     },
     "metadata": {},
     "output_type": "display_data"
    },
    {
     "name": "stdout",
     "output_type": "stream",
     "text": [
      "macro f1 score for data : 0.4609269710679201\n",
      "micro f1 score for data: 0.8550362313266358\n",
      "hamming loss for data: 0.14496376867336422\n",
      "**********************************************************************\n",
      "Precision recall report for data:\n",
      "               precision    recall  f1-score   support\n",
      "\n",
      "           0       0.00      0.00      0.00     18845\n",
      "           1       0.86      1.00      0.92    111153\n",
      "\n",
      "    accuracy                           0.86    129998\n",
      "   macro avg       0.43      0.50      0.46    129998\n",
      "weighted avg       0.73      0.86      0.79    129998\n",
      "\n",
      "**********************************************************************\n"
     ]
    },
    {
     "data": {
      "image/png": "[encoded data removed]",
      "text/plain": [
       "<Figure size 432x288 with 2 Axes>"
      ]
     },
     "metadata": {},
     "output_type": "display_data"
    }
   ],
   "source": [
    "# Testing NB Model\n",
    "import scikitplot.metrics as skplt\n",
    "\n",
    "NB_bow, roc_auc_bow = Testing_model(X_tr,Y_tr,X_test,Y_test,best_alpha_bow)"
   ]
  },
  {
   "cell_type": "code",
   "execution_count": 88,
   "metadata": {},
   "outputs": [
    {
     "name": "stdout",
     "output_type": "stream",
     "text": [
      "Collecting scikit-plot\n",
      "  Downloading scikit_plot-0.3.7-py3-none-any.whl (33 kB)\n",
      "Requirement already satisfied: matplotlib>=1.4.0 in c:\\users\\cinta\\anaconda3\\lib\\site-packages (from scikit-plot) (3.1.3)\n",
      "Requirement already satisfied: scipy>=0.9 in c:\\users\\cinta\\anaconda3\\lib\\site-packages (from scikit-plot) (1.4.1)\n",
      "Requirement already satisfied: scikit-learn>=0.18 in c:\\users\\cinta\\anaconda3\\lib\\site-packages (from scikit-plot) (0.24.1)\n",
      "Requirement already satisfied: joblib>=0.10 in c:\\users\\cinta\\anaconda3\\lib\\site-packages (from scikit-plot) (0.14.1)\n",
      "Requirement already satisfied: numpy>=1.11 in c:\\users\\cinta\\anaconda3\\lib\\site-packages (from matplotlib>=1.4.0->scikit-plot) (1.18.1)\n",
      "Requirement already satisfied: cycler>=0.10 in c:\\users\\cinta\\anaconda3\\lib\\site-packages (from matplotlib>=1.4.0->scikit-plot) (0.10.0)\n",
      "Requirement already satisfied: pyparsing!=2.0.4,!=2.1.2,!=2.1.6,>=2.0.1 in c:\\users\\cinta\\anaconda3\\lib\\site-packages (from matplotlib>=1.4.0->scikit-plot) (2.4.6)\n",
      "Requirement already satisfied: kiwisolver>=1.0.1 in c:\\users\\cinta\\anaconda3\\lib\\site-packages (from matplotlib>=1.4.0->scikit-plot) (1.1.0)\n",
      "Requirement already satisfied: python-dateutil>=2.1 in c:\\users\\cinta\\anaconda3\\lib\\site-packages (from matplotlib>=1.4.0->scikit-plot) (2.8.1)\n",
      "Requirement already satisfied: threadpoolctl>=2.0.0 in c:\\users\\cinta\\anaconda3\\lib\\site-packages (from scikit-learn>=0.18->scikit-plot) (2.1.0)\n",
      "Requirement already satisfied: six in c:\\users\\cinta\\anaconda3\\lib\\site-packages (from cycler>=0.10->matplotlib>=1.4.0->scikit-plot) (1.14.0)\n",
      "Requirement already satisfied: setuptools in c:\\users\\cinta\\anaconda3\\lib\\site-packages (from kiwisolver>=1.0.1->matplotlib>=1.4.0->scikit-plot) (45.2.0.post20200210)\n",
      "Installing collected packages: scikit-plot\n",
      "Successfully installed scikit-plot-0.3.7\n",
      "Note: you may need to restart the kernel to use updated packages.\n"
     ]
    }
   ],
   "source": [
    "pip install scikit-plot"
   ]
  },
  {
   "cell_type": "code",
   "execution_count": 48,
   "metadata": {},
   "outputs": [],
   "source": [
    "# Top features using NB and BOW\n",
    "\n",
    "#Important_features(BOW, NB_bow)"
   ]
  },
  {
   "cell_type": "code",
   "execution_count": 38,
   "metadata": {},
   "outputs": [
    {
     "name": "stdout",
     "output_type": "stream",
     "text": [
      "the type of count vectorizer  <class 'scipy.sparse.csr.csr_matrix'>\n",
      "the shape of out text BOW vectorizer  (393931, 392885)\n",
      "the number of unique words including both unigrams and bigrams  392885\n"
     ]
    }
   ],
   "source": [
    "#TF-IDF\n",
    "## TFidf Vectorizer\n",
    "from sklearn.feature_extraction.text import TfidfVectorizer\n",
    "\n",
    "TfIdf, X = Text_Into_Vector(TfidfVectorizer,data['CleanedText'])"
   ]
  },
  {
   "cell_type": "code",
   "execution_count": 39,
   "metadata": {},
   "outputs": [
    {
     "data": {
      "text/plain": [
       "['aabsolutelyloverecentlydiscoveredcornallergymeansunableeatprocessedmissingmorningonecrunchytastesneversoggyalsoyummyfreshespeciallybananashealthyhighproteinlowelsecouldgirlaskissueparticularlyhardareaevenstoresstockfulllinenaturespathcerealsoftenstockgladavailableamazon',\n",
       " 'aapsaysmakegreensquashduehigherlevelsnitratesthoughtproductwouldgreatintroducegreenbeansmonthproductcontainsfishsuitablecandidatemontholdintroductoryfoodalsoamazonsitelistsproductingredientsgreenbeanswaterpictureproductsaysdhacomesfishcontactingamazonclearfactproductthoughtrefundedofferedsendnewthinkwouldgetmislabeledhappytroublemislabelingcausedthinkamazonscustomerservicegreat',\n",
       " 'abbalovecandy',\n",
       " 'abbeybellocheavenlywantlastmealgoodcamembertenjoygoatcheesenothingcouldntbuylittledisappointedwishtheydkeptlittleknifepetitstoastsaddedlittlegripepouchthatssupposedkeepthingscoldleakedruinedtabletopthrowsoonget',\n",
       " 'abbeyzukesnicelittletreatsfitwellpuzzlemakegoodalsorecommendzukeshipactioncontainsglucosomine',\n",
       " 'abbottcurrentlybackorderformulastatedwhateverleftstoresfloatingaroundthatshappyablepurchasevendoramazonformuladaughtertolerateseverespitrefluxtriedsimilacsimilacsensitiveisomilnutramigennonehelpedformulacurrentlyricestarchformulaavailablelactosehelpfuldaughteralsosensitivemilkhopefindformulabackshelvesstoressoon',\n",
       " 'abbyfirstcamehouseeatingqualitydogdecidedtrytastewildlackdidntexpectseeamazedcoatbecameevensoftersuppleperfectdogfood',\n",
       " 'abbysawpackageprettycouldsmelltreatslovessofttreatgivesomethingcrunchbuyspecialtreatsspecialgivesuredog',\n",
       " 'abcbookfoodstorenearbytemporarilycloseddearamazonalwayspromptreliablelinkettsgoodprefertastylomalindabigfrankshotdogbunbbqsaucemixuselinkettsbestorientalstirfryskinnysaucerecipegivetastesauteedfreshredgrapetomatoesconcordfoodsstirfrymixasianchurchpotlockuselinkettlightlystirmixmentionedspicesmixhalfsteamedcarrotssnapaddmixturetastegoodpotlightlystirdontmakegreasyserveoccassionallyprocessedfoodsseasoningmixpreservativesenjoy',\n",
       " 'abcpastalettersholdnicelywithoutkeeplettershapesloveorganicgranddaughtersthatssayingalphabetorganicboxes',\n",
       " 'abcstodayshowrecentlytestedzerochocolatepeanutbutteralongzeromaplefoundarcticzerovanillamaplewhoppingpercentcalorieschocolatepeanutincrediblepercentcaloriesalmostexactlyyoudcalculatelookingproteintestcaveatfindreportgooglingrossenbelievedietfrozendessertlabels',\n",
       " 'abcstorevegasstripmiraclewannasayplanetbaghalfyummymentionedearlierlotsinterestedorderingamazonthinkillstockstorelargepackage',\n",
       " 'abilityfulfillhardfinditemlookingcloselyitemscantfindpreviouslythoughtamazontypemerchadisehopeexpandproductillback',\n",
       " 'abilitygetsoysauceindividualpacketslittlestunnedstockbulksizediscoverarrivedexpiretwohalfimpressedaspect',\n",
       " 'abilityopennosealsogreatwoulddefinatelybuy',\n",
       " 'abilitypurchasekidsjuiceboxesonlineshippedfreegreatpricelessstorenothingdamagedshippingfastquitedealitempurchase',\n",
       " 'abilitysubscribesavehonestydoesntloveespeciallyreducedfattheyremuchcrisper',\n",
       " 'abilitytestshippingkiddoslovedsuckinsaucemuchgivemustardalmostpopularfacemustardneverpopularbarbecuefamilylovelittlebitpreferkindreadonereviewersgotjarshippedpaddedthinkeithershipperreadreviewgotmaybeluckedgotsmarteremployeemaybeorderedanotherjarbarbecueshippedjarstonsbubblewrapputsturdyshipmentarrivedsafelyabletry',\n",
       " 'abitabestknownwideassortmentactualtellrealmagicrootivetrieddozensrootbeersacrossamericaneveroneholdcandleabitasremarkablemustpurelouisianacanesugarcausereallynothingshortcoursebesthardfindreliablywheneverfindsixpacktwosnatchrightluckystumbleacross',\n",
       " 'ableaddfullpoundoldtoypoodleloveslooksforwarddinnerorderonecentcheaperamazonpet']"
      ]
     },
     "execution_count": 39,
     "metadata": {},
     "output_type": "execute_result"
    }
   ],
   "source": [
    "TfIdf.get_feature_names()[:20]"
   ]
  },
  {
   "cell_type": "code",
   "execution_count": 40,
   "metadata": {},
   "outputs": [
    {
     "data": {
      "text/plain": [
       "{'analyzer': 'word',\n",
       " 'binary': False,\n",
       " 'decode_error': 'strict',\n",
       " 'dtype': numpy.float64,\n",
       " 'encoding': 'utf-8',\n",
       " 'input': 'content',\n",
       " 'lowercase': True,\n",
       " 'max_df': 1.0,\n",
       " 'max_features': None,\n",
       " 'min_df': 1,\n",
       " 'ngram_range': (1, 2),\n",
       " 'norm': 'l2',\n",
       " 'preprocessor': None,\n",
       " 'smooth_idf': True,\n",
       " 'stop_words': None,\n",
       " 'strip_accents': None,\n",
       " 'sublinear_tf': False,\n",
       " 'token_pattern': '(?u)\\\\b\\\\w\\\\w+\\\\b',\n",
       " 'tokenizer': None,\n",
       " 'use_idf': True,\n",
       " 'vocabulary': None}"
      ]
     },
     "execution_count": 40,
     "metadata": {},
     "output_type": "execute_result"
    }
   ],
   "source": [
    "TfIdf.get_params()"
   ]
  },
  {
   "cell_type": "code",
   "execution_count": 41,
   "metadata": {},
   "outputs": [],
   "source": [
    "#split data into train, cross validate and test \n",
    "\n",
    "X_tr, X_cv, X_test, Y_tr, Y_test, Y_cv, X_train, Y_train = Split_data(X, data['Score'])"
   ]
  },
  {
   "cell_type": "code",
   "execution_count": 42,
   "metadata": {},
   "outputs": [
    {
     "name": "stdout",
     "output_type": "stream",
     "text": [
      "X_test, Y_test (129998, 392885) (129998,)\n",
      "X_tr, Y_tr (176835, 392885) (176835,)\n",
      "X_cv, Y_cv (87098, 392885) (87098,)\n",
      "X_Train, Y_Train (263933, 392885) (263933,)\n"
     ]
    }
   ],
   "source": [
    "print('X_test, Y_test', X_test.shape, Y_test.shape)\n",
    "print('X_tr, Y_tr', X_tr.shape, Y_tr.shape)\n",
    "print('X_cv, Y_cv', X_cv.shape, Y_cv.shape)\n",
    "print('X_Train, Y_Train', X_train.shape, Y_train.shape)"
   ]
  },
  {
   "cell_type": "code",
   "execution_count": 43,
   "metadata": {},
   "outputs": [
    {
     "name": "stdout",
     "output_type": "stream",
     "text": [
      "Train Data Size  (176835, 392885)\n",
      "CV Data Size:  (87098, 392885)\n",
      "Test Data Size:  (129998, 392885)\n"
     ]
    }
   ],
   "source": [
    "# Normalize Data\n",
    "\n",
    "X_tr, X_cv, X_test = Normalization(X_tr, X_cv, X_test)"
   ]
  },
  {
   "cell_type": "code",
   "execution_count": 44,
   "metadata": {},
   "outputs": [
    {
     "name": "stdout",
     "output_type": "stream",
     "text": [
      "10000  ------>  0.5025115598041535\n",
      "5000  ------>  0.5025115598041535\n",
      "1000  ------>  0.5025115598041535\n",
      "500  ------>  0.5025115598041535\n",
      "100  ------>  0.5025115598041535\n",
      "50  ------>  0.5025115598041535\n",
      "10  ------>  0.5025115598041535\n",
      "5  ------>  0.5025115598041535\n",
      "1  ------>  0.5025115598041535\n",
      "0.5  ------>  0.5025115598041535\n",
      "0.1  ------>  0.5025115598041535\n",
      "0.05  ------>  0.5025115598041535\n",
      "0.01  ------>  0.5025115598041535\n",
      "0.005  ------>  0.5025115598041535\n",
      "0.001  ------>  0.5025115598041535\n",
      "0.0005  ------>  0.5025115598041535\n",
      "0.0001  ------>  0.5025115598041535\n",
      "5e-05  ------>  0.5025115598041535\n",
      "1e-05  ------>  0.5025115598041535\n",
      "****************************************************************************************************\n",
      "\n",
      " Best alpha Value 10000 with highest roc_auc Score is 0.5025115598041535\n",
      "****************************************************************************************************\n"
     ]
    },
    {
     "data": {
      "image/png": "[encoded data removed]",
      "text/plain": [
       "<Figure size 432x288 with 1 Axes>"
      ]
     },
     "metadata": {},
     "output_type": "display_data"
    },
    {
     "name": "stdout",
     "output_type": "stream",
     "text": [
      "****************************************************************************************************\n"
     ]
    },
    {
     "data": {
      "image/png": "[encoded data removed]",
      "text/plain": [
       "<Figure size 432x288 with 1 Axes>"
      ]
     },
     "metadata": {},
     "output_type": "display_data"
    },
    {
     "name": "stdout",
     "output_type": "stream",
     "text": [
      "****************************************************************************************************\n"
     ]
    }
   ],
   "source": [
    "#Naive bayes for TF-IDF\n",
    "#Training NB model\n",
    "\n",
    "best_alpha_idf = Multinomial_NB(X_tr,X_cv,Y_tr,Y_cv)"
   ]
  },
  {
   "cell_type": "code",
   "execution_count": 45,
   "metadata": {},
   "outputs": [
    {
     "name": "stdout",
     "output_type": "stream",
     "text": [
      "AUC Score 0.5028523571102949\n",
      "**********************************************************************\n"
     ]
    },
    {
     "data": {
      "image/png": "[encoded data removed]",
      "text/plain": [
       "<Figure size 432x288 with 1 Axes>"
      ]
     },
     "metadata": {},
     "output_type": "display_data"
    },
    {
     "name": "stdout",
     "output_type": "stream",
     "text": [
      "macro f1 score for data : 0.4609269710679201\n",
      "micro f1 score for data: 0.8550362313266358\n",
      "hamming loss for data: 0.14496376867336422\n",
      "**********************************************************************\n",
      "Precision recall report for data:\n",
      "               precision    recall  f1-score   support\n",
      "\n",
      "           0       0.00      0.00      0.00     18845\n",
      "           1       0.86      1.00      0.92    111153\n",
      "\n",
      "    accuracy                           0.86    129998\n",
      "   macro avg       0.43      0.50      0.46    129998\n",
      "weighted avg       0.73      0.86      0.79    129998\n",
      "\n",
      "**********************************************************************\n"
     ]
    },
    {
     "data": {
      "image/png": "[encoded data removed]",
      "text/plain": [
       "<Figure size 432x288 with 2 Axes>"
      ]
     },
     "metadata": {},
     "output_type": "display_data"
    }
   ],
   "source": [
    "# Testing NB Model\n",
    "\n",
    "NB_tfidf, roc_auc_idf = Testing_model(X_tr,Y_tr,X_test,Y_test,best_alpha_idf)"
   ]
  },
  {
   "cell_type": "code",
   "execution_count": 49,
   "metadata": {},
   "outputs": [],
   "source": [
    "# Top features using NB and tfidf\n",
    "\n",
    "#Important_features(TfIdf, NB_tfidf)"
   ]
  },
  {
   "cell_type": "code",
   "execution_count": 46,
   "metadata": {},
   "outputs": [
    {
     "data": {
      "text/markdown": [
       "****Final Conclusion for MultiNomialNB Model:****"
      ],
      "text/plain": [
       "<IPython.core.display.Markdown object>"
      ]
     },
     "metadata": {},
     "output_type": "display_data"
    },
    {
     "name": "stdout",
     "output_type": "stream",
     "text": [
      "+------------+---------------+--------------------+--------------------+\n",
      "| Vectorizer |     Model     | Hyperameter(alpha) |   Test Auc Score   |\n",
      "+------------+---------------+--------------------+--------------------+\n",
      "|    BoW     | MultinomialNB |       10000        | 0.5028523571102949 |\n",
      "|   Tf-Idf   | MultinomialNB |       10000        | 0.5028523571102949 |\n",
      "+------------+---------------+--------------------+--------------------+\n"
     ]
    }
   ],
   "source": [
    "#conclusion\n",
    "from prettytable import PrettyTable\n",
    "\n",
    "x = PrettyTable()\n",
    "x.field_names = [\"Vectorizer\", \"Model\", \"Hyperameter(alpha)\",\"Test Auc Score\"]\n",
    "\n",
    "####################################################################################\n",
    "x.add_row([\"BoW\",\"MultinomialNB\",best_alpha_bow, roc_auc_bow])\n",
    "x.add_row([\"Tf-Idf\",\"MultinomialNB\",best_alpha_idf, roc_auc_idf])\n",
    "\n",
    "####################################################################################\n",
    "from IPython.display import Markdown, display\n",
    "def printmd(string):\n",
    "    display(Markdown(string))\n",
    "    \n",
    "####################################################################################\n",
    "printmd('****Final Conclusion for MultiNomialNB Model:****')\n",
    "print(x)"
   ]
  },
  {
   "cell_type": "code",
   "execution_count": null,
   "metadata": {},
   "outputs": [],
   "source": []
  },
  {
   "cell_type": "code",
   "execution_count": 88,
   "metadata": {},
   "outputs": [
    {
     "name": "stdout",
     "output_type": "stream",
     "text": [
      "Collecting prettytable\n",
      "  Downloading prettytable-2.0.0-py3-none-any.whl (22 kB)\n",
      "Requirement already satisfied: setuptools in c:\\users\\cinta\\anaconda3\\lib\\site-packages (from prettytable) (45.2.0.post20200210)\n",
      "Requirement already satisfied: wcwidth in c:\\users\\cinta\\anaconda3\\lib\\site-packages (from prettytable) (0.1.8)\n",
      "Installing collected packages: prettytable\n",
      "Successfully installed prettytable-2.0.0\n",
      "Note: you may need to restart the kernel to use updated packages.\n"
     ]
    }
   ],
   "source": [
    "pip install prettytable"
   ]
  },
  {
   "cell_type": "code",
   "execution_count": 47,
   "metadata": {},
   "outputs": [
    {
     "name": "stdout",
     "output_type": "stream",
     "text": [
      "Prediction using BOW: positive review\n",
      "Prediction using TF-Idf: positive review\n"
     ]
    }
   ],
   "source": [
    "# Individual prediction\n",
    "review = \"\"\"Great, healthier alternative to the usual bhujia we Indians are used to having along with our tea or our beer.\n",
    "            Much less salt than traditional tea snacks as well. I love the variety of texture as well with the very \n",
    "            crunchy peas to soft cheese bits, the sesame seed coated snack to good old roasted peanuts. It is pretty \n",
    "            expensive though, at 600rs at a kilo perhaps the most expensive tea snack Ive ever had.\"\"\"\n",
    "\n",
    "print(\"Prediction using BOW:\", Individual_Prediction(BOW, NB_bow, review))\n",
    "print(\"Prediction using TF-Idf:\", Individual_Prediction(TfIdf, NB_tfidf, review))"
   ]
  },
  {
   "cell_type": "code",
   "execution_count": null,
   "metadata": {},
   "outputs": [],
   "source": []
  }
 ],
 "metadata": {
  "kernelspec": {
   "display_name": "Python 3",
   "language": "python",
   "name": "python3"
  },
  "language_info": {
   "codemirror_mode": {
    "name": "ipython",
    "version": 3
   },
   "file_extension": ".py",
   "mimetype": "text/x-python",
   "name": "python",
   "nbconvert_exporter": "python",
   "pygments_lexer": "ipython3",
   "version": "3.7.6"
  }
 },
 "nbformat": 4,
 "nbformat_minor": 4
}
